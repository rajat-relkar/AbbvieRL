{
 "cells": [
  {
   "cell_type": "code",
   "execution_count": 9,
   "metadata": {},
   "outputs": [],
   "source": [
    "import pandas as pd\n",
    "import numpy as np\n",
    "from sklearn.preprocessing import MinMaxScaler\n",
    "\n",
    "sequenceLen  = 50\n",
    "\n",
    "df = pd.read_csv('PD_sim_30.csv')\n",
    "\n",
    "state_mapping = {'OFF': 0, 'ON': 1, 'TroublesomeDYS': 2}\n",
    "df['STATE'] = df['STATE'].map(state_mapping)\n",
    "\n",
    "grouped = df.groupby('ID')\n",
    "sequences = []\n",
    "for _, group in grouped:\n",
    "    group = group.sort_values('Time (hour)')\n",
    "    cols = ['Flow rate (mL/h)', 'LD (mg/L)', 'STATE', 'AGE', 'LBW', 'BMI', 'CRCL']\n",
    "    seq = group[cols].values\n",
    "    sequences.append(seq)\n",
    "\n",
    "data = np.stack(sequences)\n",
    "\n",
    "features = len(cols)\n",
    "\n",
    "numerical_indices = [1, 3, 4, 5, 6]  \n",
    "scaler = MinMaxScaler()\n",
    "for i in numerical_indices:\n",
    "    data[:, :, i] = scaler.fit_transform(data[:, :, i].reshape(-1, 1)).reshape(data.shape[0], data.shape[1])\n",
    "\n",
    "train_data = data[:240]  \n",
    "val_data = data[240:]   "
   ]
  },
  {
   "cell_type": "code",
   "execution_count": 10,
   "metadata": {},
   "outputs": [
    {
     "name": "stdout",
     "output_type": "stream",
     "text": [
      "[[1.50000000e-01 0.00000000e+00 0.00000000e+00 ... 4.10449491e+01\n",
      "  2.21449890e+01 9.92497165e+01]\n",
      " [1.50000000e-01 7.33152300e-03 0.00000000e+00 ... 4.10449491e+01\n",
      "  2.21449890e+01 9.92497165e+01]\n",
      " [1.50000000e-01 7.27536230e-02 0.00000000e+00 ... 4.10449491e+01\n",
      "  2.21449890e+01 9.92497165e+01]\n",
      " ...\n",
      " [0.00000000e+00 1.04195000e-04 1.00000000e+00 ... 4.10449491e+01\n",
      "  2.21449890e+01 9.92497165e+01]\n",
      " [0.00000000e+00 1.04190000e-04 0.00000000e+00 ... 4.10449491e+01\n",
      "  2.21449890e+01 9.92497165e+01]\n",
      " [0.00000000e+00 1.04186000e-04 0.00000000e+00 ... 4.10449491e+01\n",
      "  2.21449890e+01 9.92497165e+01]]\n"
     ]
    }
   ],
   "source": [
    "print(sequences[0])"
   ]
  },
  {
   "cell_type": "code",
   "execution_count": null,
   "metadata": {},
   "outputs": [],
   "source": []
  },
  {
   "cell_type": "code",
   "execution_count": 11,
   "metadata": {},
   "outputs": [
    {
     "data": {
      "text/plain": [
       "(300, 961, 7)"
      ]
     },
     "execution_count": 11,
     "metadata": {},
     "output_type": "execute_result"
    }
   ],
   "source": [
    "data.shape"
   ]
  },
  {
   "cell_type": "code",
   "execution_count": 12,
   "metadata": {},
   "outputs": [],
   "source": [
    "def mask_data(data, mask_prob=0.2):\n",
    "    masked_data = data.copy()\n",
    "    mask_2d = np.random.rand(data.shape[0], data.shape[1]) < mask_prob \n",
    "    mask = np.stack([mask_2d] * 3, axis=2) #mask.shape = (300, 961, 3)\n",
    "    # print(mask.shape) \n",
    "    \n",
    "    # masked_data[:, :, 0][mask[:, :, 0]] = -1  # Flow rate\n",
    "    masked_data[:, :, 1][mask[:, :, 1]] = -1   # LD\n",
    "    masked_data[:, :, 2][mask[:, :, 2]] = -1  # STATE\n",
    "    \n",
    "    return masked_data, mask"
   ]
  },
  {
   "cell_type": "code",
   "execution_count": 13,
   "metadata": {},
   "outputs": [
    {
     "data": {
      "text/plain": [
       "(array([[[ 1.50000000e-01,  0.00000000e+00,  0.00000000e+00, ...,\n",
       "           2.08795688e-01,  1.97581764e-01,  4.98216113e-01],\n",
       "         [ 1.50000000e-01,  1.03703745e-03,  0.00000000e+00, ...,\n",
       "           2.08795688e-01,  1.97581764e-01,  4.98216113e-01],\n",
       "         [ 1.50000000e-01, -1.00000000e+00, -1.00000000e+00, ...,\n",
       "           2.08795688e-01,  1.97581764e-01,  4.98216113e-01],\n",
       "         ...,\n",
       "         [ 0.00000000e+00,  1.47382906e-05,  1.00000000e+00, ...,\n",
       "           2.08795688e-01,  1.97581764e-01,  4.98216113e-01],\n",
       "         [ 0.00000000e+00,  1.47375834e-05,  0.00000000e+00, ...,\n",
       "           2.08795688e-01,  1.97581764e-01,  4.98216113e-01],\n",
       "         [ 0.00000000e+00,  1.47370176e-05,  0.00000000e+00, ...,\n",
       "           2.08795688e-01,  1.97581764e-01,  4.98216113e-01]],\n",
       " \n",
       "        [[ 1.50000000e-01, -1.00000000e+00, -1.00000000e+00, ...,\n",
       "           8.47939063e-01,  5.11162726e-01,  3.31150395e-01],\n",
       "         [ 1.50000000e-01,  3.47622631e-03,  0.00000000e+00, ...,\n",
       "           8.47939063e-01,  5.11162726e-01,  3.31150395e-01],\n",
       "         [ 1.50000000e-01,  1.31533171e-02,  1.00000000e+00, ...,\n",
       "           8.47939063e-01,  5.11162726e-01,  3.31150395e-01],\n",
       "         ...,\n",
       "         [ 0.00000000e+00,  2.40463497e-09,  1.00000000e+00, ...,\n",
       "           8.47939063e-01,  5.11162726e-01,  3.31150395e-01],\n",
       "         [ 0.00000000e+00,  1.99443253e-09,  1.00000000e+00, ...,\n",
       "           8.47939063e-01,  5.11162726e-01,  3.31150395e-01],\n",
       "         [ 0.00000000e+00,  1.66909957e-09,  1.00000000e+00, ...,\n",
       "           8.47939063e-01,  5.11162726e-01,  3.31150395e-01]],\n",
       " \n",
       "        [[ 1.50000000e-01, -1.00000000e+00, -1.00000000e+00, ...,\n",
       "           4.48368535e-01,  1.68603506e-01,  4.65013111e-01],\n",
       "         [ 1.50000000e-01,  9.52561912e-03,  0.00000000e+00, ...,\n",
       "           4.48368535e-01,  1.68603506e-01,  4.65013111e-01],\n",
       "         [ 1.50000000e-01, -1.00000000e+00, -1.00000000e+00, ...,\n",
       "           4.48368535e-01,  1.68603506e-01,  4.65013111e-01],\n",
       "         ...,\n",
       "         [ 0.00000000e+00, -1.00000000e+00, -1.00000000e+00, ...,\n",
       "           4.48368535e-01,  1.68603506e-01,  4.65013111e-01],\n",
       "         [ 0.00000000e+00,  2.57437391e-08,  0.00000000e+00, ...,\n",
       "           4.48368535e-01,  1.68603506e-01,  4.65013111e-01],\n",
       "         [ 0.00000000e+00,  2.17831638e-08,  0.00000000e+00, ...,\n",
       "           4.48368535e-01,  1.68603506e-01,  4.65013111e-01]],\n",
       " \n",
       "        ...,\n",
       " \n",
       "        [[ 1.50000000e-01,  0.00000000e+00,  0.00000000e+00, ...,\n",
       "           6.78613018e-01,  6.86668365e-01,  4.76796883e-01],\n",
       "         [ 1.50000000e-01, -1.00000000e+00, -1.00000000e+00, ...,\n",
       "           6.78613018e-01,  6.86668365e-01,  4.76796883e-01],\n",
       "         [ 1.50000000e-01,  2.93126256e-02,  0.00000000e+00, ...,\n",
       "           6.78613018e-01,  6.86668365e-01,  4.76796883e-01],\n",
       "         ...,\n",
       "         [ 0.00000000e+00,  1.75396904e-08,  0.00000000e+00, ...,\n",
       "           6.78613018e-01,  6.86668365e-01,  4.76796883e-01],\n",
       "         [ 0.00000000e+00, -1.00000000e+00, -1.00000000e+00, ...,\n",
       "           6.78613018e-01,  6.86668365e-01,  4.76796883e-01],\n",
       "         [ 0.00000000e+00, -1.00000000e+00, -1.00000000e+00, ...,\n",
       "           6.78613018e-01,  6.86668365e-01,  4.76796883e-01]],\n",
       " \n",
       "        [[ 1.50000000e-01,  0.00000000e+00,  0.00000000e+00, ...,\n",
       "           2.08795688e-01,  1.97581764e-01,  4.98216113e-01],\n",
       "         [ 1.50000000e-01,  4.18045379e-03,  0.00000000e+00, ...,\n",
       "           2.08795688e-01,  1.97581764e-01,  4.98216113e-01],\n",
       "         [ 1.50000000e-01,  2.00020667e-02,  1.00000000e+00, ...,\n",
       "           2.08795688e-01,  1.97581764e-01,  4.98216113e-01],\n",
       "         ...,\n",
       "         [ 0.00000000e+00,  1.04106549e-05,  1.00000000e+00, ...,\n",
       "           2.08795688e-01,  1.97581764e-01,  4.98216113e-01],\n",
       "         [ 0.00000000e+00,  1.04106549e-05,  0.00000000e+00, ...,\n",
       "           2.08795688e-01,  1.97581764e-01,  4.98216113e-01],\n",
       "         [ 0.00000000e+00, -1.00000000e+00, -1.00000000e+00, ...,\n",
       "           2.08795688e-01,  1.97581764e-01,  4.98216113e-01]],\n",
       " \n",
       "        [[ 1.50000000e-01, -1.00000000e+00, -1.00000000e+00, ...,\n",
       "           4.94059745e-01,  1.50082774e-01,  5.90270932e-01],\n",
       "         [ 1.50000000e-01,  4.06283432e-03,  0.00000000e+00, ...,\n",
       "           4.94059745e-01,  1.50082774e-01,  5.90270932e-01],\n",
       "         [ 1.50000000e-01,  1.46022944e-02,  0.00000000e+00, ...,\n",
       "           4.94059745e-01,  1.50082774e-01,  5.90270932e-01],\n",
       "         ...,\n",
       "         [ 0.00000000e+00,  1.46184832e-05,  0.00000000e+00, ...,\n",
       "           4.94059745e-01,  1.50082774e-01,  5.90270932e-01],\n",
       "         [ 0.00000000e+00,  1.46115522e-05,  2.00000000e+00, ...,\n",
       "           4.94059745e-01,  1.50082774e-01,  5.90270932e-01],\n",
       "         [ 0.00000000e+00,  1.46056113e-05,  2.00000000e+00, ...,\n",
       "           4.94059745e-01,  1.50082774e-01,  5.90270932e-01]]]),\n",
       " array([[[False, False, False],\n",
       "         [False, False, False],\n",
       "         [ True,  True,  True],\n",
       "         ...,\n",
       "         [False, False, False],\n",
       "         [False, False, False],\n",
       "         [False, False, False]],\n",
       " \n",
       "        [[ True,  True,  True],\n",
       "         [False, False, False],\n",
       "         [False, False, False],\n",
       "         ...,\n",
       "         [False, False, False],\n",
       "         [False, False, False],\n",
       "         [False, False, False]],\n",
       " \n",
       "        [[ True,  True,  True],\n",
       "         [False, False, False],\n",
       "         [ True,  True,  True],\n",
       "         ...,\n",
       "         [ True,  True,  True],\n",
       "         [False, False, False],\n",
       "         [False, False, False]],\n",
       " \n",
       "        ...,\n",
       " \n",
       "        [[False, False, False],\n",
       "         [ True,  True,  True],\n",
       "         [False, False, False],\n",
       "         ...,\n",
       "         [False, False, False],\n",
       "         [ True,  True,  True],\n",
       "         [ True,  True,  True]],\n",
       " \n",
       "        [[False, False, False],\n",
       "         [False, False, False],\n",
       "         [False, False, False],\n",
       "         ...,\n",
       "         [False, False, False],\n",
       "         [False, False, False],\n",
       "         [ True,  True,  True]],\n",
       " \n",
       "        [[ True,  True,  True],\n",
       "         [False, False, False],\n",
       "         [False, False, False],\n",
       "         ...,\n",
       "         [False, False, False],\n",
       "         [False, False, False],\n",
       "         [False, False, False]]]))"
      ]
     },
     "execution_count": 13,
     "metadata": {},
     "output_type": "execute_result"
    }
   ],
   "source": [
    "mask_data(data)"
   ]
  },
  {
   "cell_type": "code",
   "execution_count": 14,
   "metadata": {},
   "outputs": [
    {
     "name": "stderr",
     "output_type": "stream",
     "text": [
      "2025-03-05 14:39:19.544488: E external/local_xla/xla/stream_executor/cuda/cuda_dnn.cc:9261] Unable to register cuDNN factory: Attempting to register factory for plugin cuDNN when one has already been registered\n",
      "2025-03-05 14:39:19.544591: E external/local_xla/xla/stream_executor/cuda/cuda_fft.cc:607] Unable to register cuFFT factory: Attempting to register factory for plugin cuFFT when one has already been registered\n",
      "2025-03-05 14:39:19.545856: E external/local_xla/xla/stream_executor/cuda/cuda_blas.cc:1515] Unable to register cuBLAS factory: Attempting to register factory for plugin cuBLAS when one has already been registered\n",
      "2025-03-05 14:39:19.552826: I tensorflow/core/platform/cpu_feature_guard.cc:182] This TensorFlow binary is optimized to use available CPU instructions in performance-critical operations.\n",
      "To enable the following instructions: AVX2 FMA, in other operations, rebuild TensorFlow with the appropriate compiler flags.\n",
      "2025-03-05 14:39:20.343432: W tensorflow/compiler/tf2tensorrt/utils/py_utils.cc:38] TF-TRT Warning: Could not find TensorRT\n"
     ]
    }
   ],
   "source": [
    "from tensorflow.keras.layers import Input, LSTM, Dense, Bidirectional, TimeDistributed\n",
    "from tensorflow.keras.models import Model\n",
    "\n",
    "inputs = Input(shape=(data.shape[1], features)) # (961, 3)\n",
    "\n",
    "x = Bidirectional(LSTM(64, return_sequences=True))(inputs)\n",
    "x = Bidirectional(LSTM(32, return_sequences=True))(x)\n",
    "x = Bidirectional(LSTM(16, return_sequences=True))(x)\n",
    "\n",
    "# flow_output = TimeDistributed(Dense(1, name='flow_rate'))(x)  \n",
    "ld_output = TimeDistributed(Dense(1, name='ld'))(x)           \n",
    "state_output = TimeDistributed(Dense(3, activation='softmax', name='state'))(x)\n",
    "\n",
    "model = Model(inputs=inputs, outputs=[ld_output, state_output])"
   ]
  },
  {
   "cell_type": "code",
   "execution_count": 15,
   "metadata": {},
   "outputs": [
    {
     "data": {
      "image/png": "[encoded data removed]",
      "text/plain": [
       "<IPython.core.display.Image object>"
      ]
     },
     "execution_count": 15,
     "metadata": {},
     "output_type": "execute_result"
    }
   ],
   "source": [
    "from keras.utils import plot_model\n",
    "plot_model(model, show_shapes=True, show_layer_names=True)"
   ]
  },
  {
   "cell_type": "code",
   "execution_count": 16,
   "metadata": {},
   "outputs": [],
   "source": [
    "def get_shape(t):\n",
    "    if isinstance(t, tuple):\n",
    "        return (len(t), *get_shape(t[0])) if t else ()\n",
    "    return ()"
   ]
  },
  {
   "cell_type": "code",
   "execution_count": 17,
   "metadata": {},
   "outputs": [],
   "source": [
    "import tensorflow as tf\n",
    "\n",
    "mse_loss = tf.keras.losses.MeanSquaredError()\n",
    "sce_loss = tf.keras.losses.SparseCategoricalCrossentropy(from_logits=False)\n",
    "\n",
    "optimizer = tf.keras.optimizers.Adam()\n",
    "\n",
    "\n",
    "def train_step(inputs, ld_true, state_true, mask_ld, mask_state):\n",
    "    # print(\"**\")\n",
    "    with tf.GradientTape() as tape:\n",
    "        ld_pred, state_pred = model(inputs)\n",
    "        # print(len(ld_pred), len(state_pred))\n",
    "        # Note to remember: reduce_sum(...): Sums the masked errors across all elements.\n",
    "    \n",
    "        ld_loss = tf.reduce_sum(mask_ld * tf.squeeze(tf.square(ld_true - ld_pred))) / tf.reduce_sum(mask_ld)\n",
    "        state_loss = tf.reduce_sum(mask_state * sce_loss(state_true, state_pred)) / tf.reduce_sum(mask_state)\n",
    "        \n",
    "        total_loss = ld_loss + state_loss\n",
    "    \n",
    "    # Note to remember: Computes the gradient of total_loss with respect to all trainable parameters in the model.\n",
    "    gradients = tape.gradient(total_loss, model.trainable_variables)\n",
    "    optimizer.apply_gradients(zip(gradients, model.trainable_variables))\n",
    "    return total_loss"
   ]
  },
  {
   "cell_type": "code",
   "execution_count": 19,
   "metadata": {},
   "outputs": [],
   "source": [
    "lossesOverSteps = []\n",
    "\n",
    "def trainingOverDifferentMasks():\n",
    "    \n",
    "    train_masked, train_mask = mask_data(train_data)\n",
    "    val_masked, val_mask = mask_data(val_data)\n",
    "\n",
    "    # print(train_mask[0])\n",
    "\n",
    "    # train_flow_true = train_data[:, :, 0:1]  \n",
    "    train_ld_true = train_data[:, :, 1:2]    \n",
    "    train_state_true = train_data[:, :, 2:3]  \n",
    "\n",
    "    # train_mask_flow = train_mask[:, :, 0]\n",
    "    train_mask_ld = train_mask[:, :, 1]\n",
    "    train_mask_state = train_mask[:, :, 2]\n",
    "\n",
    "    batch_size = 32\n",
    "    train_dataset = tf.data.Dataset.from_tensor_slices(\n",
    "        (tf.cast(train_masked, tf.float32), \n",
    "        tf.cast(train_ld_true, tf.float32), \n",
    "        tf.cast(train_state_true, tf.float32), \n",
    "        tf.cast(train_mask_ld, tf.float32), \n",
    "        tf.cast(train_mask_state, tf.float32))\n",
    "    ).shuffle(buffer_size=240).batch(batch_size)\n",
    "\n",
    "    for epoch in range(100):\n",
    "        for batch in train_dataset:\n",
    "            loss = train_step(*batch)\n",
    "        \n",
    "        lossesOverSteps.append(loss)\n",
    "\n",
    "        print(f'Epoch {epoch + 1}, Loss: {loss:.4f}')\n"
   ]
  },
  {
   "cell_type": "code",
   "execution_count": 15,
   "metadata": {},
   "outputs": [
    {
     "name": "stdout",
     "output_type": "stream",
     "text": [
      "Training on Mask 1\n",
      "Epoch 1, Loss: 0.9497\n",
      "Epoch 2, Loss: 0.8825\n",
      "Epoch 3, Loss: 0.9770\n",
      "Epoch 4, Loss: 0.9019\n",
      "Epoch 5, Loss: 0.9231\n",
      "Training on Mask 2\n",
      "Epoch 1, Loss: 1.0023\n",
      "Epoch 2, Loss: 0.9119\n",
      "Epoch 3, Loss: 0.8293\n",
      "Epoch 4, Loss: 0.9116\n",
      "Epoch 5, Loss: 0.9058\n",
      "Training on Mask 3\n",
      "Epoch 1, Loss: 0.8326\n",
      "Epoch 2, Loss: 0.8380\n",
      "Epoch 3, Loss: 0.7731\n",
      "Epoch 4, Loss: 0.7949\n",
      "Epoch 5, Loss: 0.6970\n",
      "Training on Mask 4\n",
      "Epoch 1, Loss: 0.6637\n",
      "Epoch 2, Loss: 0.6373\n",
      "Epoch 3, Loss: 0.6785\n",
      "Epoch 4, Loss: 0.6210\n",
      "Epoch 5, Loss: 0.7195\n",
      "Training on Mask 5\n",
      "Epoch 1, Loss: 0.6569\n",
      "Epoch 2, Loss: 0.6431\n",
      "Epoch 3, Loss: 0.5758\n",
      "Epoch 4, Loss: 0.6784\n",
      "Epoch 5, Loss: 0.7674\n"
     ]
    }
   ],
   "source": [
    "for i in range(0, 10):\n",
    "    print(f'Training on Mask {i+1}')\n",
    "    trainingOverDifferentMasks()"
   ]
  },
  {
   "cell_type": "code",
   "execution_count": 16,
   "metadata": {},
   "outputs": [
    {
     "name": "stdout",
     "output_type": "stream",
     "text": [
      "WARNING:tensorflow:Compiled the loaded model, but the compiled metrics have yet to be built. `model.compile_metrics` will be empty until you train or evaluate the model.\n"
     ]
    },
    {
     "name": "stderr",
     "output_type": "stream",
     "text": [
      "/home/rajat/ANN Classification/venv/lib/python3.11/site-packages/keras/src/engine/training.py:3103: UserWarning: You are saving your model as an HDF5 file via `model.save()`. This file format is considered legacy. We recommend using instead the native Keras format, e.g. `model.save('my_model.keras')`.\n",
      "  saving_api.save_model(\n"
     ]
    }
   ],
   "source": [
    "model.save('imputationModel.h5')"
   ]
  },
  {
   "cell_type": "code",
   "execution_count": 17,
   "metadata": {},
   "outputs": [
    {
     "name": "stdout",
     "output_type": "stream",
     "text": [
      "[0.94965357, 0.8824719, 0.9769827, 0.90194887, 0.92311645, 1.002251, 0.9118964, 0.8292823, 0.91157335, 0.90579927, 0.8326134, 0.83803505, 0.773126, 0.794915, 0.6969812, 0.6637069, 0.63727546, 0.67847025, 0.6209589, 0.719466, 0.65689886, 0.6431484, 0.5757991, 0.67836887, 0.7674208]\n"
     ]
    }
   ],
   "source": [
    "lossesOverSteps = [loss.numpy() if tf.is_tensor(loss) else loss for loss in lossesOverSteps]\n",
    "print(lossesOverSteps)"
   ]
  },
  {
   "cell_type": "code",
   "execution_count": 18,
   "metadata": {},
   "outputs": [
    {
     "data": {
      "image/png": "[encoded data removed]",
      "text/plain": [
       "<Figure size 1000x600 with 1 Axes>"
      ]
     },
     "metadata": {},
     "output_type": "display_data"
    }
   ],
   "source": [
    "# lossesOverSteps = [loss if tf.is_tensor(loss) else loss for loss in lossesOverSteps]\n",
    "\n",
    "import matplotlib.pyplot as plt\n",
    "plt.figure(figsize=(10, 6))  # Set figure size\n",
    "plt.plot(range(len(lossesOverSteps)), lossesOverSteps, 'b-', label='Training Loss')  # 'b-' means blue line\n",
    "\n",
    "# Customize the plot\n",
    "plt.title('Training Loss of Model Over Time')\n",
    "plt.xlabel('Epoch')\n",
    "plt.ylabel('Loss')\n",
    "plt.grid(True)\n",
    "plt.legend()\n",
    "\n",
    "# Show the plot\n",
    "plt.show()"
   ]
  },
  {
   "cell_type": "markdown",
   "metadata": {},
   "source": [
    "Forecasting"
   ]
  },
  {
   "cell_type": "code",
   "execution_count": 8,
   "metadata": {},
   "outputs": [],
   "source": [
    "# from keras.models import load_model\n",
    "# model = load_model('imputationModel.h5')"
   ]
  },
  {
   "cell_type": "code",
   "execution_count": 20,
   "metadata": {},
   "outputs": [],
   "source": [
    "# import tensorflow as tf\n",
    "# from tensorflow.keras.layers import Input, LSTM, Dense, Attention, Concatenate, TimeDistributed\n",
    "# from tensorflow.keras.models import Model"
   ]
  },
  {
   "cell_type": "code",
   "execution_count": 51,
   "metadata": {},
   "outputs": [],
   "source": [
    "# inputs = tf.keras.Input(shape=(961, 7))\n",
    "\n",
    "# x = tf.keras.layers.Bidirectional(tf.keras.layers.LSTM(64, return_sequences=True))(inputs)\n",
    "\n",
    "# x = tf.keras.layers.Bidirectional(tf.keras.layers.LSTM(32, return_sequences=True))(x)\n",
    "\n",
    "# x = tf.keras.layers.Bidirectional(tf.keras.layers.LSTM(16, return_sequences=True))(x)\n",
    "\n",
    "# ld_output = tf.keras.layers.TimeDistributed(tf.keras.layers.Dense(1, name='ld'))(x)\n",
    "\n",
    "# state_output = tf.keras.layers.TimeDistributed(tf.keras.layers.Dense(3, activation='softmax', name='state'))(x)\n",
    "\n",
    "# a_model = tf.keras.Model(inputs=inputs, outputs=[ld_output, state_output])"
   ]
  },
  {
   "cell_type": "code",
   "execution_count": 7,
   "metadata": {},
   "outputs": [],
   "source": [
    "# plot_model(a_model, show_shapes=True, show_layer_names=True)"
   ]
  },
  {
   "cell_type": "code",
   "execution_count": 53,
   "metadata": {},
   "outputs": [],
   "source": [
    "# # Get the output of the last LSTM layer (index 3, assuming layers are: Input, BiLSTM1, BiLSTM2, BiLSTM3)\n",
    "# encoder_output = model.layers[3].output\n",
    "# encoder_model = tf.keras.Model(inputs=model.input, outputs=encoder_output)\n",
    "\n",
    "# # Freeze the encoder layers to preserve trained weights\n",
    "# for layer in encoder_model.layers:\n",
    "#     layer.trainable = False"
   ]
  },
  {
   "cell_type": "code",
   "execution_count": 54,
   "metadata": {},
   "outputs": [],
   "source": [
    "# encoder_input = tf.keras.Input(shape=(961, 7), name='encoder_input')\n",
    "# decoder_input = tf.keras.Input(shape=(100, 4), name='decoder_input')  # 4 = LD (1) + STATE one-hot (3)\n",
    "\n",
    "# # Encoder: process past sequence\n",
    "# encoder_hidden = encoder_model(encoder_input)  # Shape: (None, 861, 32)\n",
    "\n",
    "# # Decoder: LSTM with attention\n",
    "# decoder_lstm = tf.keras.layers.LSTM(32, return_sequences=True)(decoder_input)  # Shape: (None, 100, 32)\n",
    "# context = tf.keras.layers.Attention()([decoder_lstm, encoder_hidden])  # Shape: (None, 100, 32)\n",
    "# combined = tf.concat([decoder_lstm, context], axis=-1)  # Shape: (None, 100, 64)\n",
    "\n",
    "# # Output layers\n",
    "# ld_pred = tf.keras.layers.TimeDistributed(tf.keras.layers.Dense(1, name='ld'))(combined)\n",
    "# state_pred = tf.keras.layers.TimeDistributed(tf.keras.layers.Dense(3, activation='softmax', name='state'))(combined)\n",
    "\n",
    "# forecasting_model = tf.keras.Model(inputs=[encoder_input, decoder_input], outputs=[ld_pred, state_pred])\n",
    "\n",
    "# forecasting_model.compile(\n",
    "#     optimizer='adam',\n",
    "#     loss={'ld': 'mse', 'state': 'sparse_categorical_crossentropy'},\n",
    "#     loss_weights={'ld': 1.0, 'state': 1.0}\n",
    "# )"
   ]
  },
  {
   "cell_type": "code",
   "execution_count": 6,
   "metadata": {},
   "outputs": [],
   "source": [
    "# plot_model(forecasting_model, show_shapes=True, show_layer_names=True)"
   ]
  },
  {
   "cell_type": "code",
   "execution_count": null,
   "metadata": {},
   "outputs": [],
   "source": []
  },
  {
   "cell_type": "code",
   "execution_count": null,
   "metadata": {},
   "outputs": [],
   "source": []
  },
  {
   "cell_type": "code",
   "execution_count": 56,
   "metadata": {},
   "outputs": [],
   "source": [
    "# train_data = data[:240]\n",
    "# val_data = data[240:]\n",
    "\n",
    "# # Past sequences (first 861 timesteps)\n",
    "# train_past = train_data[:, :861, :]\n",
    "# val_past = val_data[:, :861, :]\n",
    "\n",
    "# # Future targets (last 100 timesteps)\n",
    "# train_target_LD = train_data[:, 861:, 1:2]  # 'LD' is assumed at index 1\n",
    "# train_target_STATE = train_data[:, 861:, 2:3]  # 'STATE' is assumed at index 2\n",
    "# val_target_LD = val_data[:, 861:, 1:2]\n",
    "# val_target_STATE = val_data[:, 861:, 2:3]\n",
    "\n",
    "# # Decoder input (shifted future sequence with one-hot encoded 'STATE')\n",
    "# train_STATE_onehot = tf.keras.utils.to_categorical(train_data[:, :, 2], num_classes=3)\n",
    "# val_STATE_onehot = tf.keras.utils.to_categorical(val_data[:, :, 2], num_classes=3)\n",
    "# train_decoder_input = tf.concat([train_data[:, 860:960, 1:2], train_STATE_onehot[:, 860:960]], axis=-1)\n",
    "# val_decoder_input = tf.concat([val_data[:, 860:960, 1:2], val_STATE_onehot[:, 860:960]], axis=-1)"
   ]
  },
  {
   "cell_type": "code",
   "execution_count": 5,
   "metadata": {},
   "outputs": [],
   "source": [
    "# forecasting_model.fit(\n",
    "#     [train_past, train_decoder_input],\n",
    "#     [train_target_LD, train_target_STATE],\n",
    "#     epochs=10,\n",
    "#     batch_size=32,\n",
    "#     validation_data=([val_past, val_decoder_input], [val_target_LD, val_target_STATE])\n",
    "# )"
   ]
  },
  {
   "cell_type": "code",
   "execution_count": null,
   "metadata": {},
   "outputs": [],
   "source": []
  },
  {
   "cell_type": "code",
   "execution_count": 21,
   "metadata": {},
   "outputs": [],
   "source": [
    "# inputs = Input(shape=(None, 7))  # Shape: (batch_size, timesteps, features)\n",
    "\n",
    "# lstm_out = LSTM(64, return_sequences=True)(inputs)  # Shape: (batch_size, timesteps, 64)\n",
    "\n",
    "# attention = Attention()([lstm_out, lstm_out])  # Query and key are both lstm_out\n",
    "\n",
    "# context_vector = Concatenate(axis=-1)([lstm_out, attention])\n",
    "\n",
    "# processed_context = TimeDistributed(Dense(32, activation='relu'))(context_vector)\n",
    "\n",
    "# ld_output = TimeDistributed(Dense(1, name='ld'))(processed_context)  \n",
    "# state_output = TimeDistributed(Dense(3, activation='softmax', name='state'))(processed_context)  \n",
    "\n",
    "# attention_model = Model(inputs=inputs, outputs=[ld_output, state_output])\n",
    "\n",
    "# # Compile the model\n",
    "# attention_model.compile(optimizer='adam',\n",
    "#               loss={'ld': 'mse', 'state': 'sparse_categorical_crossentropy'},\n",
    "#               metrics={'ld': 'mae', 'state': 'accuracy'})"
   ]
  },
  {
   "cell_type": "code",
   "execution_count": 26,
   "metadata": {},
   "outputs": [],
   "source": [
    "# plot_model(attention_model, show_shapes=True, show_layer_names=True)"
   ]
  },
  {
   "cell_type": "code",
   "execution_count": null,
   "metadata": {},
   "outputs": [],
   "source": []
  },
  {
   "cell_type": "code",
   "execution_count": 4,
   "metadata": {},
   "outputs": [],
   "source": [
    "# import tensorflow as tf\n",
    "\n",
    "# val_flow_true = val_data[:, :, 0:1]  \n",
    "# val_ld_true = val_data[:, :, 1:2]    \n",
    "# val_state_true = val_data[:, :, 2:3]  \n",
    "\n",
    "# val_mask_flow = val_mask[:, :, 0]\n",
    "# val_mask_ld = val_mask[:, :, 1]\n",
    "# val_mask_state = val_mask[:, :, 2]\n",
    "\n",
    "# mse_loss = tf.keras.losses.MeanSquaredError()\n",
    "# sce_loss = tf.keras.losses.SparseCategoricalCrossentropy(from_logits=False)\n",
    "\n",
    "# optimizer = tf.keras.optimizers.Adam()\n",
    "\n",
    "# @tf.function\n",
    "# def eval_step(inputs, flow_true, ld_true, state_true, mask_flow, mask_ld, mask_state):\n",
    "#     with tf.GradientTape() as tape:\n",
    "#         flow_pred, ld_pred, state_pred = model(inputs)\n",
    "\n",
    "#         # Note to remember: reduce_sum(...): Sums the masked errors across all elements.\n",
    "#         flow_loss = tf.reduce_sum(mask_flow * tf.squeeze(tf.square(flow_true - flow_pred))) / tf.reduce_sum(mask_flow)\n",
    "#         ld_loss = tf.reduce_sum(mask_ld * tf.squeeze(tf.square(ld_true - ld_pred))) / tf.reduce_sum(mask_ld)\n",
    "#         state_loss = tf.reduce_sum(mask_state * sce_loss(state_true, state_pred)) / tf.reduce_sum(mask_state)\n",
    "        \n",
    "#         total_loss = flow_loss + ld_loss + state_loss\n",
    "    \n",
    "#     return total_loss\n",
    "\n",
    "# batch_size = 1\n",
    "# val_dataset = tf.data.Dataset.from_tensor_slices(\n",
    "#     (tf.cast(val_masked, tf.float32), \n",
    "#      tf.cast(val_flow_true, tf.float32), \n",
    "#      tf.cast(val_ld_true, tf.float32), \n",
    "#      tf.cast(val_state_true, tf.float32), \n",
    "#      tf.cast(val_mask_flow, tf.float32), \n",
    "#      tf.cast(val_mask_ld, tf.float32), \n",
    "#      tf.cast(val_mask_state, tf.float32))\n",
    "# ).shuffle(buffer_size=1).batch(batch_size)\n",
    "\n",
    "# for epoch in range(100):\n",
    "#     for batch in val_dataset:\n",
    "#         loss = train_step(*batch)\n",
    "#     print(f'Epoch {epoch + 1}, Loss: {loss:.4f}')"
   ]
  },
  {
   "cell_type": "code",
   "execution_count": null,
   "metadata": {},
   "outputs": [],
   "source": []
  }
 ],
 "metadata": {
  "kernelspec": {
   "display_name": "Python 3",
   "language": "python",
   "name": "python3"
  },
  "language_info": {
   "codemirror_mode": {
    "name": "ipython",
    "version": 3
   },
   "file_extension": ".py",
   "mimetype": "text/x-python",
   "name": "python",
   "nbconvert_exporter": "python",
   "pygments_lexer": "ipython3",
   "version": "3.11.10"
  }
 },
 "nbformat": 4,
 "nbformat_minor": 2
}
